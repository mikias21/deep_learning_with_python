{
  "nbformat": 4,
  "nbformat_minor": 0,
  "metadata": {
    "colab": {
      "provenance": [],
      "authorship_tag": "ABX9TyM08DdC9av6VYyzYyvTEUWY",
      "include_colab_link": true
    },
    "kernelspec": {
      "name": "python3",
      "display_name": "Python 3"
    },
    "language_info": {
      "name": "python"
    }
  },
  "cells": [
    {
      "cell_type": "markdown",
      "metadata": {
        "id": "view-in-github",
        "colab_type": "text"
      },
      "source": [
        "<a href=\"https://colab.research.google.com/github/mikias21/deep_learning_with_python/blob/main/deep_learning_with_python.ipynb\" target=\"_parent\"><img src=\"https://colab.research.google.com/assets/colab-badge.svg\" alt=\"Open In Colab\"/></a>"
      ]
    },
    {
      "cell_type": "markdown",
      "source": [
        "# Deep Learning with python"
      ],
      "metadata": {
        "id": "pE1rYLDJng8V"
      }
    },
    {
      "cell_type": "markdown",
      "source": [
        "### Chapter 2 : The mathematical building blocks of neural networks\n",
        "\n",
        "*Note In machine learning, a category in a classification problem is called a\n",
        "class. Data points are called samples. The class associated with a specific sample is called a label.*\n",
        "\n",
        "\n",
        "*   An ***optimizer***-The mechanism through which the model will update itself based\n",
        "on the training data it sees, so as to improve its performance.\n",
        "*   A ***loss function***—How the model will be able to measure its performance on the training data, and thus how it will be able to steer itself in the right direction.\n",
        "* ***Metrics*** to monitor during training and testing—Here, we’ll only care about accuracy (the fraction of the images that were correctly classified).\n",
        "\n",
        "In general, all current machine learning systems use tensors\n",
        "as their basic data structure. **Tensors** are fundamental to the field—so fundamental that TensorFlow was named after them.\n",
        "\n",
        "At its core, a **tensor** is a container for data—usually numerical data. So, it’s a container for numbers. You may be already familiar with matrices, which are rank-2 tensors: tensors are a generalization of matrices to an arbitrary number of dimensions (note that in the context of tensors, a dimension is often called an axis).\n",
        "\n",
        "A tensor that contains only one number is called a ***scalar*** (or scalar tensor, or rank-0 tensor, or 0D tensor). The number of axes of a tensor is also\n",
        "called its ***rank***.\n",
        "```\n",
        ">>> import numpy as np\n",
        ">>> x = np.array(12)\n",
        ">>> x\n",
        "array(12)\n",
        ">>> x.ndim\n",
        "0\n",
        "```\n",
        "An array of numbers is called a vector, or rank-1 tensor, or 1D tensor. A rank-1 tensor is said to have exactly one axis. This vector has five entries and so is called a 5-dimensional vector. Don’t confuse a 5D\n",
        "vector with a 5D tensor! A 5D vector has only one axis and has five dimensions along its axis, whereas a 5D tensor has five axes (and may have any number of dimensions along each axis).\n",
        "\n",
        "***Dimensionality*** can denote either the number of entries along a specific axis (as in the case of our 5D vector) or the number of axes in a tensor (such as a\n",
        "5D tensor), which can be confusing at times.\n",
        "```\n",
        ">>> x = np.array([12, 3, 6, 14, 7])\n",
        ">>> x\n",
        "array([12, 3, 6, 14, 7])\n",
        ">>> x.ndim\n",
        "1\n",
        "```\n",
        "\n",
        "An array of vectors is a matrix, or rank-2 tensor, or 2D tensor. A matrix has two axes (often referred to as rows and columns). You can visually interpret a matrix as a rectangular grid of numbers.\n",
        "```\n",
        ">>> x = np.array([[5, 78, 2, 34, 0],\n",
        "[6, 79, 3, 35, 1],\n",
        "[7, 80, 4, 36, 2]])\n",
        ">>> x.ndim\n",
        "2\n",
        "```\n",
        "In deep learning, you’ll generally manipulate tensors with ranks 0 to 4, although you may go up to 5 if you process video data.\n",
        "\n",
        "#### Key Attributes\n",
        "A tensor is defined by three key attributes:\n",
        "* ***Number of axes (rank)***—For instance, a rank-3 tensor has three axes, and a matrix has two axes. This is also called the tensor’s ndim in Python libraries such as NumPy or TensorFlow.\n",
        "* ***Shape***—This is a tuple of integers that describes how many dimensions the tensor has along each axis. For instance, the previous matrix example has shape (3, 5), and the rank-3 tensor example has shape (3, 3, 5). A vector has a shape with a single element, such as (5,), whereas a scalar has an empty shape, ()\n",
        "* ***Data type (usually called dtype in Python libraries)***—This is the type of the data contained in the tensor; for instance, a tensor’s type could be float16, float32, float64, uint8, and so on.\n",
        "\n"
      ],
      "metadata": {
        "id": "VAwEOLEOmUmX"
      }
    },
    {
      "cell_type": "code",
      "source": [
        "## MNIST Handwritten images classification\n",
        "from tensorflow.keras.datasets import mnist\n",
        "\n",
        "(train_images, train_labels), (test_images, test_labels) = mnist.load_data()\n",
        "\n",
        "print(train_images.shape, len(train_labels))\n",
        "print(test_images.shape, len(test_labels))\n",
        "\n",
        "import matplotlib.pyplot as plt\n",
        "digit = train_images[4]\n",
        "plt.imshow(digit, cmap=plt.cm.binary)\n",
        "plt.show()\n",
        "\n",
        "from tensorflow import keras\n",
        "from tensorflow.keras import layers\n",
        "\n",
        "# Build model\n",
        "model = keras.Sequential([\n",
        "    layers.Dense(512, activation='relu'),\n",
        "    layers.Dense(10, activation='softmax')\n",
        "])\n",
        "\n",
        "# Compile model\n",
        "model.compile(optimizer='rmsprop',\n",
        "              loss='sparse_categorical_crossentropy',\n",
        "              metrics=['accuracy'])\n",
        "\n",
        "# Prepare image data\n",
        "train_images = train_images.reshape((60000, 28*28))\n",
        "train_images = train_images.astype('float32') / 255\n",
        "test_images = test_images.reshape((10000, 28*28))\n",
        "test_images = test_images.astype('float32') / 255\n",
        "\n",
        "# Train the model\n",
        "model.fit(train_images, train_labels, epochs=5, batch_size=128)\n",
        "\n",
        "# Make prediction with the model\n",
        "some_digits = test_images[0:10]\n",
        "predictions = model.predict(some_digits)\n",
        "print(predictions[0], predictions[0].argmax())\n",
        "print(test_labels[predictions[0].argmax()])\n",
        "\n",
        "# Compute the avarage accuracy of the model over the entire test dataset\n",
        "test_loss, test_acc = model.evaluate(test_images, test_labels)\n",
        "print(test_loss, test_acc)"
      ],
      "metadata": {
        "colab": {
          "base_uri": "https://localhost:8080/",
          "height": 742
        },
        "id": "tnPIRqtxnmRM",
        "outputId": "8dad2663-b6f2-4812-9031-1b27ea34508b"
      },
      "execution_count": 8,
      "outputs": [
        {
          "output_type": "stream",
          "name": "stdout",
          "text": [
            "(60000, 28, 28) 60000\n",
            "(10000, 28, 28) 10000\n"
          ]
        },
        {
          "output_type": "display_data",
          "data": {
            "text/plain": [
              "<Figure size 640x480 with 1 Axes>"
            ],
            "image/png": "[encoded data removed]"
          },
          "metadata": {}
        },
        {
          "output_type": "stream",
          "name": "stdout",
          "text": [
            "Epoch 1/5\n",
            "469/469 [==============================] - 7s 14ms/step - loss: 0.2644 - accuracy: 0.9243\n",
            "Epoch 2/5\n",
            "469/469 [==============================] - 4s 9ms/step - loss: 0.1081 - accuracy: 0.9682\n",
            "Epoch 3/5\n",
            "469/469 [==============================] - 4s 9ms/step - loss: 0.0714 - accuracy: 0.9789\n",
            "Epoch 4/5\n",
            "469/469 [==============================] - 5s 12ms/step - loss: 0.0518 - accuracy: 0.9844\n",
            "Epoch 5/5\n",
            "469/469 [==============================] - 4s 9ms/step - loss: 0.0389 - accuracy: 0.9883\n",
            "1/1 [==============================] - 0s 60ms/step\n",
            "[7.1969403e-08 7.6609821e-09 1.5227366e-05 1.0521353e-04 6.8905423e-11\n",
            " 1.1934773e-07 2.1292917e-11 9.9987459e-01 3.1712023e-07 4.4600861e-06] 7\n",
            "9\n",
            "313/313 [==============================] - 1s 3ms/step - loss: 0.0669 - accuracy: 0.9784\n",
            "0.06685654073953629 0.9783999919891357\n"
          ]
        }
      ]
    },
    {
      "cell_type": "code",
      "source": [],
      "metadata": {
        "id": "sYAJzEGon4z0"
      },
      "execution_count": null,
      "outputs": []
    }
  ]
}